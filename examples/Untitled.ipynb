{
 "cells": [
  {
   "cell_type": "markdown",
   "metadata": {},
   "source": [
    "# Object Detection"
   ]
  },
  {
   "cell_type": "code",
   "execution_count": 24,
   "metadata": {},
   "outputs": [],
   "source": [
    "import pandas as pd\n",
    "import urllib\n",
    "import urllib.request as tr\n",
    "import os\n",
    "import PIL\n",
    "import shutil\n",
    "import numpy as np\n",
    "%matplotlib inline"
   ]
  },
  {
   "cell_type": "code",
   "execution_count": 25,
   "metadata": {},
   "outputs": [],
   "source": [
    "basedir = r'biene_hummel'\n",
    "dir_dict = {\n",
    "    'download': os.path.join(basedir, 'download'),\n",
    "    'train': os.path.join(basedir, 'train'),\n",
    "    'test': os.path.join(basedir, 'test'),\n",
    "    'valid': os.path.join(basedir, 'valid'),\n",
    "    'train_bee': os.path.join(basedir, 'train', 'biene'),\n",
    "    'train_bumble': os.path.join(basedir, 'train', 'hummel'),\n",
    "    'test_bee': os.path.join(basedir, 'test', 'biene'),\n",
    "    'test_bumble': os.path.join(basedir, 'test', 'hummel'),\n",
    "    'valid_bee': os.path.join(basedir, 'valid', 'biene'),\n",
    "    'valid_bumble': os.path.join(basedir, 'valid', 'hummel'),\n",
    "\n",
    "}\n",
    "\n",
    "# Erzeuge die Verzeichnisse (nur wenn sie nicht vorhanden sind)\n",
    "for key in dir_dict:\n",
    "    if os.path.exists(dir_dict[key])==False: \n",
    "        os.makedirs(dir_dict[key])"
   ]
  },
  {
   "cell_type": "code",
   "execution_count": 26,
   "metadata": {},
   "outputs": [
    {
     "name": "stdout",
     "output_type": "stream",
     "text": [
      "<class 'pandas.core.frame.DataFrame'>\n",
      "RangeIndex: 3969 entries, 0 to 3968\n",
      "Data columns (total 2 columns):\n",
      " #   Column  Non-Null Count  Dtype  \n",
      "---  ------  --------------  -----  \n",
      " 0   id      3969 non-null   int64  \n",
      " 1   genus   3969 non-null   float64\n",
      "dtypes: float64(1), int64(1)\n",
      "memory usage: 62.1 KB\n",
      "     id  genus\n",
      "0   520    1.0\n",
      "1  3800    1.0\n",
      "2  3289    1.0\n",
      "3  2695    1.0\n",
      "4  4922    1.0\n"
     ]
    }
   ],
   "source": [
    "url = 'https://raw.githubusercontent.com/dionhagan/naive-bees/master/train_labels.csv'\n",
    "urllib.request.urlretrieve(url, os.path.join(dir_dict['download'], 'train_labels.csv'))\n",
    "df = pd.read_csv(os.path.join(dir_dict['download'], 'train_labels.csv'))\n",
    "df.info()\n",
    "print(df.head(5))"
   ]
  }
 ],
 "metadata": {
  "kernelspec": {
   "display_name": "Python 3",
   "language": "python",
   "name": "python3"
  },
  "language_info": {
   "codemirror_mode": {
    "name": "ipython",
    "version": 3
   },
   "file_extension": ".py",
   "mimetype": "text/x-python",
   "name": "python",
   "nbconvert_exporter": "python",
   "pygments_lexer": "ipython3",
   "version": "3.7.9"
  }
 },
 "nbformat": 4,
 "nbformat_minor": 4
}
