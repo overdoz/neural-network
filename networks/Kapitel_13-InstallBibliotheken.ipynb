{
 "cells": [
  {
   "cell_type": "markdown",
   "metadata": {},
   "source": [
    "# Kapitel 13 - Installation Bibliotheken"
   ]
  },
  {
   "cell_type": "markdown",
   "metadata": {},
   "source": [
    "### Installation notwendiger Bibliotheken\n",
    "Falls die Bibliotheken noch nicht im entsprechenden Environment installiert wurden, kann das mit einem der beiden nachfolgenden Code-Zellen nachgeholt werden."
   ]
  },
  {
   "cell_type": "markdown",
   "metadata": {},
   "source": [
    "### ... mit conda"
   ]
  },
  {
   "cell_type": "code",
   "execution_count": null,
   "metadata": {},
   "outputs": [],
   "source": [
    "# Installiere die notwendigen Bibliotheken mit conda\n",
    "import sys\n",
    "!conda update --yes -n base -c  defaults conda\n",
    "!conda install --yes --prefix {sys.prefix} tensorflow scikit-learn pandas requests numpy urllib3 PIL"
   ]
  },
  {
   "cell_type": "markdown",
   "metadata": {},
   "source": [
    "## ODER"
   ]
  },
  {
   "cell_type": "markdown",
   "metadata": {},
   "source": [
    "### ... mit pip"
   ]
  },
  {
   "cell_type": "code",
   "execution_count": null,
   "metadata": {},
   "outputs": [],
   "source": [
    "# Installiere die notwendigen Bibliotheken mit pip\n",
    "import sys\n",
    "!{sys.executable} -m pip install tensorflow scikit-learn pandas requests numpy urllib3 PIL"
   ]
  },
  {
   "cell_type": "code",
   "execution_count": null,
   "metadata": {},
   "outputs": [],
   "source": []
  }
 ],
 "metadata": {
  "kernelspec": {
   "display_name": "Python 3",
   "language": "python",
   "name": "python3"
  },
  "language_info": {
   "codemirror_mode": {
    "name": "ipython",
    "version": 3
   },
   "file_extension": ".py",
   "mimetype": "text/x-python",
   "name": "python",
   "nbconvert_exporter": "python",
   "pygments_lexer": "ipython3",
   "version": "3.7.5"
  }
 },
 "nbformat": 4,
 "nbformat_minor": 2
}
