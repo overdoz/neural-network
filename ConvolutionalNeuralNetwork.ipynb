{
 "cells": [
  {
   "cell_type": "code",
   "execution_count": 3,
   "metadata": {},
   "outputs": [
    {
     "name": "stdout",
     "output_type": "stream",
     "text": [
      "Shape Trainingsdaten: (60000, 28, 28)\n",
      "Dimension Bild Nr. 5: (28, 28)\n",
      "Label zu Bild Nr. 5 2\n",
      "Trainingsdatensatz: (60000, 28, 28, 1)\n",
      "Testdatensatz: (10000, 28, 28, 1)\n",
      "Wir haben 60000 Trainingsbilder und 10000 Testbilder.\n"
     ]
    }
   ],
   "source": [
    "from tensorflow.keras.datasets import mnist\n",
    "from tensorflow.keras.utils import to_categorical\n",
    "\n",
    "(train_images, train_labels), (test_images, test_labels) = mnist.load_data()\n",
    "\n",
    "print(\"Shape Trainingsdaten: {}\".format(train_images.shape))\n",
    "print(\"Dimension Bild Nr. 5: {}\".format(train_images[5].shape))\n",
    "print(\"Label zu Bild Nr. 5 {}\".format(train_labels[5]))\n",
    "\n",
    "train_images = train_images.reshape((60000, 28, 28, 1))\n",
    "train_images = train_images.astype('float32')\n",
    "train_images /= 255\n",
    "\n",
    "test_images = test_images.reshape((10000, 28, 28, 1))\n",
    "test_images = test_images.astype('float32')\n",
    "test_images /= 255\n",
    "\n",
    "train_labels = to_categorical(train_labels)\n",
    "test_labels = to_categorical(test_labels)\n",
    "\n",
    "NrTrainimages = train_images.shape[0]\n",
    "NrTestimages = test_images.shape[0]\n",
    "\n",
    "print(\"Trainingsdatensatz: {}\".format(train_images.shape))\n",
    "print(\"Testdatensatz: {}\".format(test_images.shape))\n",
    "print(\"Wir haben {} Trainingsbilder und {} Testbilder.\".format(NrTrainimages, NrTestimages))"
   ]
  },
  {
   "cell_type": "code",
   "execution_count": 5,
   "metadata": {},
   "outputs": [
    {
     "data": {
      "image/png": "[encoded data removed]",
      "text/plain": [
       "<Figure size 432x288 with 1 Axes>"
      ]
     },
     "metadata": {
      "needs_background": "light"
     },
     "output_type": "display_data"
    }
   ],
   "source": [
    "%matplotlib inline\n",
    "import matplotlib.pyplot as plt\n",
    "import random\n",
    "\n",
    "# Zufallszahl zwischen 0 und 60000\n",
    "\n",
    "randindex = random.randint(0, 60000)\n",
    "plttitle = \"Trainingsbild Nr. {} \\n Klasse: {}\".format(randindex, train_labels[randindex])\n",
    "plt.imshow(train_images[randindex].reshape(28,28), cmap='gray')\n",
    "plt.title(plttitle)\n",
    "plt.show()"
   ]
  },
  {
   "cell_type": "code",
   "execution_count": null,
   "metadata": {},
   "outputs": [
    {
     "name": "stdout",
     "output_type": "stream",
     "text": [
      "Model: \"sequential\"\n",
      "_________________________________________________________________\n",
      "Layer (type)                 Output Shape              Param #   \n",
      "=================================================================\n",
      "conv2d (Conv2D)              (None, 24, 24, 32)        832       \n",
      "_________________________________________________________________\n",
      "max_pooling2d (MaxPooling2D) (None, 12, 12, 32)        0         \n",
      "_________________________________________________________________\n",
      "conv2d_1 (Conv2D)            (None, 8, 8, 64)          51264     \n",
      "_________________________________________________________________\n",
      "max_pooling2d_1 (MaxPooling2 (None, 4, 4, 64)          0         \n",
      "_________________________________________________________________\n",
      "dropout (Dropout)            (None, 4, 4, 64)          0         \n",
      "_________________________________________________________________\n",
      "flatten (Flatten)            (None, 1024)              0         \n",
      "_________________________________________________________________\n",
      "features (Dense)             (None, 128)               131200    \n",
      "_________________________________________________________________\n",
      "dropout_1 (Dropout)          (None, 128)               0         \n",
      "_________________________________________________________________\n",
      "dense (Dense)                (None, 64)                8256      \n",
      "_________________________________________________________________\n",
      "dense_1 (Dense)              (None, 10)                650       \n",
      "=================================================================\n",
      "Total params: 192,202\n",
      "Trainable params: 192,202\n",
      "Non-trainable params: 0\n",
      "_________________________________________________________________\n",
      "Train on 60000 samples, validate on 10000 samples\n",
      "Epoch 1/12\n"
     ]
    }
   ],
   "source": [
    "import os\n",
    "import numpy as np\n",
    "\n",
    "from tensorflow.keras.callbacks import TensorBoard\n",
    "from tensorflow.keras.models import Sequential\n",
    "from tensorflow.keras.layers import Dense, Dropout, Flatten\n",
    "from tensorflow.keras.layers import Conv2D, MaxPooling2D\n",
    "from tensorflow.keras import backend as K\n",
    "\n",
    "\n",
    "# Bestimmung des Formats der Eingabedaten\n",
    "mnist_inputshape = train_images.shape[1:4]\n",
    "\n",
    "# Die Netzwerkarchitektur\n",
    "model = Sequential()\n",
    "\n",
    "# Kodierungsblock\n",
    "model.add(Conv2D(32, kernel_size=(5,5), activation='relu', input_shape=mnist_inputshape))\n",
    "model.add(MaxPooling2D(pool_size=(2,2)))\n",
    "\n",
    "# Conv_Block 2\n",
    "model.add(Conv2D(64, kernel_size=(5,5), activation='relu'))\n",
    "model.add(MaxPooling2D(pool_size=(2,2)))\n",
    "model.add(Dropout(0.5))\n",
    "\n",
    "# Prädiktionsblock\n",
    "model.add(Flatten())\n",
    "model.add(Dense(128, activation='relu', name='features'))\n",
    "model.add(Dropout(0.5))\n",
    "model.add(Dense(64, activation='relu'))\n",
    "model.add(Dense(10, activation='softmax'))\n",
    "model.summary()\n",
    "\n",
    "model.compile(loss='categorical_crossentropy', optimizer='Adam', metrics=['accuracy'])\n",
    "\n",
    "# Tensorboard - Vorbereitung\n",
    "LOGDIR = \"logs\"\n",
    "my_tensorboard = TensorBoard(log_dir = LOGDIR, histogram_freq=0, write_graph=True, write_images=True)\n",
    "\n",
    "# Hyperparamter\n",
    "my_batch_size = 128\n",
    "my_num_classes = 10\n",
    "my_epochs = 12\n",
    "\n",
    "history = model.fit(train_images, train_labels, batch_size=my_batch_size, callbacks=[my_tensorboard], epochs=my_epochs, verbose=1, validation_data=(test_images, test_labels))\n",
    "\n"
   ]
  },
  {
   "cell_type": "code",
   "execution_count": null,
   "metadata": {},
   "outputs": [],
   "source": []
  }
 ],
 "metadata": {
  "kernelspec": {
   "display_name": "Python 3",
   "language": "python",
   "name": "python3"
  },
  "language_info": {
   "codemirror_mode": {
    "name": "ipython",
    "version": 3
   },
   "file_extension": ".py",
   "mimetype": "text/x-python",
   "name": "python",
   "nbconvert_exporter": "python",
   "pygments_lexer": "ipython3",
   "version": "3.7.9"
  }
 },
 "nbformat": 4,
 "nbformat_minor": 4
}